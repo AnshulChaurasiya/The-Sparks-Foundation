{
  "nbformat": 4,
  "nbformat_minor": 0,
  "metadata": {
    "colab": {
      "name": "Task-02 (TSF).ipynb",
      "provenance": []
    },
    "kernelspec": {
      "name": "python3",
      "display_name": "Python 3"
    },
    "language_info": {
      "name": "python"
    }
  },
  "cells": [
    {
      "cell_type": "markdown",
      "source": [
        "# **GRIP : The Sparks Foundation**\n",
        "#### Data Science and Business Analytics Internship\n",
        "#### Author : Anshul Chaurasiya\n",
        "---\n",
        "## **Task 4 : Exploratory Data Analysis - Terrorism**\n",
        "###### This project is analyzing terror activities in various countries and their impact, cause, etc."
      ],
      "metadata": {
        "id": "HWJwsbjZRu1n"
      }
    },
    {
      "cell_type": "code",
      "source": [
        "#Import libraries and data\n",
        "import numpy as np\n",
        "import pandas as pd\n",
        "import matplotlib.pylab as plt\n",
        "import seaborn as sns\n",
        "import warnings\n",
        "warnings.filterwarnings(\"ignore\")"
      ],
      "metadata": {
        "id": "rCBs7lu7SUgZ"
      },
      "execution_count": null,
      "outputs": []
    },
    {
      "cell_type": "code",
      "source": [
        "df= pd.read_csv('/content/terrorism.csv', encoding='latin-1')"
      ],
      "metadata": {
        "id": "EsZ-BcPuTq28"
      },
      "execution_count": null,
      "outputs": []
    },
    {
      "cell_type": "code",
      "source": [
        "#Calling dataset\n",
        "df.head()"
      ],
      "metadata": {
        "id": "-PlppGWgTtNI",
        "outputId": "0be05721-606b-4022-a6ae-bed352b963a0",
        "colab": {
          "base_uri": "https://localhost:8080/",
          "height": 317
        }
      },
      "execution_count": null,
      "outputs": [
        {
          "output_type": "execute_result",
          "data": {
            "text/plain": [
              "        eventid  iyear  imonth  iday approxdate  extended resolution  country  \\\n",
              "0  197000000001   1970       7     2        NaN         0        NaN       58   \n",
              "1  197000000002   1970       0     0        NaN         0        NaN      130   \n",
              "2  197001000001   1970       1     0        NaN         0        NaN      160   \n",
              "3  197001000002   1970       1     0        NaN         0        NaN       78   \n",
              "4  197001000003   1970       1     0        NaN         0        NaN      101   \n",
              "\n",
              "          country_txt  region  ... addnotes scite1 scite2  scite3  dbsource  \\\n",
              "0  Dominican Republic       2  ...      NaN    NaN    NaN     NaN      PGIS   \n",
              "1              Mexico       1  ...      NaN    NaN    NaN     NaN      PGIS   \n",
              "2         Philippines       5  ...      NaN    NaN    NaN     NaN      PGIS   \n",
              "3              Greece       8  ...      NaN    NaN    NaN     NaN      PGIS   \n",
              "4               Japan       4  ...      NaN    NaN    NaN     NaN      PGIS   \n",
              "\n",
              "   INT_LOG  INT_IDEO INT_MISC INT_ANY  related  \n",
              "0      0.0       0.0      0.0     0.0      NaN  \n",
              "1      0.0       1.0      1.0     1.0      NaN  \n",
              "2     -9.0      -9.0      1.0     1.0      NaN  \n",
              "3     -9.0      -9.0      1.0     1.0      NaN  \n",
              "4     -9.0      -9.0      1.0     1.0      NaN  \n",
              "\n",
              "[5 rows x 135 columns]"
            ],
            "text/html": [
              "\n",
              "  <div id=\"df-8cc76e5b-ad0e-4eeb-96c7-f340f1b65872\">\n",
              "    <div class=\"colab-df-container\">\n",
              "      <div>\n",
              "<style scoped>\n",
              "    .dataframe tbody tr th:only-of-type {\n",
              "        vertical-align: middle;\n",
              "    }\n",
              "\n",
              "    .dataframe tbody tr th {\n",
              "        vertical-align: top;\n",
              "    }\n",
              "\n",
              "    .dataframe thead th {\n",
              "        text-align: right;\n",
              "    }\n",
              "</style>\n",
              "<table border=\"1\" class=\"dataframe\">\n",
              "  <thead>\n",
              "    <tr style=\"text-align: right;\">\n",
              "      <th></th>\n",
              "      <th>eventid</th>\n",
              "      <th>iyear</th>\n",
              "      <th>imonth</th>\n",
              "      <th>iday</th>\n",
              "      <th>approxdate</th>\n",
              "      <th>extended</th>\n",
              "      <th>resolution</th>\n",
              "      <th>country</th>\n",
              "      <th>country_txt</th>\n",
              "      <th>region</th>\n",
              "      <th>...</th>\n",
              "      <th>addnotes</th>\n",
              "      <th>scite1</th>\n",
              "      <th>scite2</th>\n",
              "      <th>scite3</th>\n",
              "      <th>dbsource</th>\n",
              "      <th>INT_LOG</th>\n",
              "      <th>INT_IDEO</th>\n",
              "      <th>INT_MISC</th>\n",
              "      <th>INT_ANY</th>\n",
              "      <th>related</th>\n",
              "    </tr>\n",
              "  </thead>\n",
              "  <tbody>\n",
              "    <tr>\n",
              "      <th>0</th>\n",
              "      <td>197000000001</td>\n",
              "      <td>1970</td>\n",
              "      <td>7</td>\n",
              "      <td>2</td>\n",
              "      <td>NaN</td>\n",
              "      <td>0</td>\n",
              "      <td>NaN</td>\n",
              "      <td>58</td>\n",
              "      <td>Dominican Republic</td>\n",
              "      <td>2</td>\n",
              "      <td>...</td>\n",
              "      <td>NaN</td>\n",
              "      <td>NaN</td>\n",
              "      <td>NaN</td>\n",
              "      <td>NaN</td>\n",
              "      <td>PGIS</td>\n",
              "      <td>0.0</td>\n",
              "      <td>0.0</td>\n",
              "      <td>0.0</td>\n",
              "      <td>0.0</td>\n",
              "      <td>NaN</td>\n",
              "    </tr>\n",
              "    <tr>\n",
              "      <th>1</th>\n",
              "      <td>197000000002</td>\n",
              "      <td>1970</td>\n",
              "      <td>0</td>\n",
              "      <td>0</td>\n",
              "      <td>NaN</td>\n",
              "      <td>0</td>\n",
              "      <td>NaN</td>\n",
              "      <td>130</td>\n",
              "      <td>Mexico</td>\n",
              "      <td>1</td>\n",
              "      <td>...</td>\n",
              "      <td>NaN</td>\n",
              "      <td>NaN</td>\n",
              "      <td>NaN</td>\n",
              "      <td>NaN</td>\n",
              "      <td>PGIS</td>\n",
              "      <td>0.0</td>\n",
              "      <td>1.0</td>\n",
              "      <td>1.0</td>\n",
              "      <td>1.0</td>\n",
              "      <td>NaN</td>\n",
              "    </tr>\n",
              "    <tr>\n",
              "      <th>2</th>\n",
              "      <td>197001000001</td>\n",
              "      <td>1970</td>\n",
              "      <td>1</td>\n",
              "      <td>0</td>\n",
              "      <td>NaN</td>\n",
              "      <td>0</td>\n",
              "      <td>NaN</td>\n",
              "      <td>160</td>\n",
              "      <td>Philippines</td>\n",
              "      <td>5</td>\n",
              "      <td>...</td>\n",
              "      <td>NaN</td>\n",
              "      <td>NaN</td>\n",
              "      <td>NaN</td>\n",
              "      <td>NaN</td>\n",
              "      <td>PGIS</td>\n",
              "      <td>-9.0</td>\n",
              "      <td>-9.0</td>\n",
              "      <td>1.0</td>\n",
              "      <td>1.0</td>\n",
              "      <td>NaN</td>\n",
              "    </tr>\n",
              "    <tr>\n",
              "      <th>3</th>\n",
              "      <td>197001000002</td>\n",
              "      <td>1970</td>\n",
              "      <td>1</td>\n",
              "      <td>0</td>\n",
              "      <td>NaN</td>\n",
              "      <td>0</td>\n",
              "      <td>NaN</td>\n",
              "      <td>78</td>\n",
              "      <td>Greece</td>\n",
              "      <td>8</td>\n",
              "      <td>...</td>\n",
              "      <td>NaN</td>\n",
              "      <td>NaN</td>\n",
              "      <td>NaN</td>\n",
              "      <td>NaN</td>\n",
              "      <td>PGIS</td>\n",
              "      <td>-9.0</td>\n",
              "      <td>-9.0</td>\n",
              "      <td>1.0</td>\n",
              "      <td>1.0</td>\n",
              "      <td>NaN</td>\n",
              "    </tr>\n",
              "    <tr>\n",
              "      <th>4</th>\n",
              "      <td>197001000003</td>\n",
              "      <td>1970</td>\n",
              "      <td>1</td>\n",
              "      <td>0</td>\n",
              "      <td>NaN</td>\n",
              "      <td>0</td>\n",
              "      <td>NaN</td>\n",
              "      <td>101</td>\n",
              "      <td>Japan</td>\n",
              "      <td>4</td>\n",
              "      <td>...</td>\n",
              "      <td>NaN</td>\n",
              "      <td>NaN</td>\n",
              "      <td>NaN</td>\n",
              "      <td>NaN</td>\n",
              "      <td>PGIS</td>\n",
              "      <td>-9.0</td>\n",
              "      <td>-9.0</td>\n",
              "      <td>1.0</td>\n",
              "      <td>1.0</td>\n",
              "      <td>NaN</td>\n",
              "    </tr>\n",
              "  </tbody>\n",
              "</table>\n",
              "<p>5 rows × 135 columns</p>\n",
              "</div>\n",
              "      <button class=\"colab-df-convert\" onclick=\"convertToInteractive('df-8cc76e5b-ad0e-4eeb-96c7-f340f1b65872')\"\n",
              "              title=\"Convert this dataframe to an interactive table.\"\n",
              "              style=\"display:none;\">\n",
              "        \n",
              "  <svg xmlns=\"http://www.w3.org/2000/svg\" height=\"24px\"viewBox=\"0 0 24 24\"\n",
              "       width=\"24px\">\n",
              "    <path d=\"M0 0h24v24H0V0z\" fill=\"none\"/>\n",
              "    <path d=\"M18.56 5.44l.94 2.06.94-2.06 2.06-.94-2.06-.94-.94-2.06-.94 2.06-2.06.94zm-11 1L8.5 8.5l.94-2.06 2.06-.94-2.06-.94L8.5 2.5l-.94 2.06-2.06.94zm10 10l.94 2.06.94-2.06 2.06-.94-2.06-.94-.94-2.06-.94 2.06-2.06.94z\"/><path d=\"M17.41 7.96l-1.37-1.37c-.4-.4-.92-.59-1.43-.59-.52 0-1.04.2-1.43.59L10.3 9.45l-7.72 7.72c-.78.78-.78 2.05 0 2.83L4 21.41c.39.39.9.59 1.41.59.51 0 1.02-.2 1.41-.59l7.78-7.78 2.81-2.81c.8-.78.8-2.07 0-2.86zM5.41 20L4 18.59l7.72-7.72 1.47 1.35L5.41 20z\"/>\n",
              "  </svg>\n",
              "      </button>\n",
              "      \n",
              "  <style>\n",
              "    .colab-df-container {\n",
              "      display:flex;\n",
              "      flex-wrap:wrap;\n",
              "      gap: 12px;\n",
              "    }\n",
              "\n",
              "    .colab-df-convert {\n",
              "      background-color: #E8F0FE;\n",
              "      border: none;\n",
              "      border-radius: 50%;\n",
              "      cursor: pointer;\n",
              "      display: none;\n",
              "      fill: #1967D2;\n",
              "      height: 32px;\n",
              "      padding: 0 0 0 0;\n",
              "      width: 32px;\n",
              "    }\n",
              "\n",
              "    .colab-df-convert:hover {\n",
              "      background-color: #E2EBFA;\n",
              "      box-shadow: 0px 1px 2px rgba(60, 64, 67, 0.3), 0px 1px 3px 1px rgba(60, 64, 67, 0.15);\n",
              "      fill: #174EA6;\n",
              "    }\n",
              "\n",
              "    [theme=dark] .colab-df-convert {\n",
              "      background-color: #3B4455;\n",
              "      fill: #D2E3FC;\n",
              "    }\n",
              "\n",
              "    [theme=dark] .colab-df-convert:hover {\n",
              "      background-color: #434B5C;\n",
              "      box-shadow: 0px 1px 3px 1px rgba(0, 0, 0, 0.15);\n",
              "      filter: drop-shadow(0px 1px 2px rgba(0, 0, 0, 0.3));\n",
              "      fill: #FFFFFF;\n",
              "    }\n",
              "  </style>\n",
              "\n",
              "      <script>\n",
              "        const buttonEl =\n",
              "          document.querySelector('#df-8cc76e5b-ad0e-4eeb-96c7-f340f1b65872 button.colab-df-convert');\n",
              "        buttonEl.style.display =\n",
              "          google.colab.kernel.accessAllowed ? 'block' : 'none';\n",
              "\n",
              "        async function convertToInteractive(key) {\n",
              "          const element = document.querySelector('#df-8cc76e5b-ad0e-4eeb-96c7-f340f1b65872');\n",
              "          const dataTable =\n",
              "            await google.colab.kernel.invokeFunction('convertToInteractive',\n",
              "                                                     [key], {});\n",
              "          if (!dataTable) return;\n",
              "\n",
              "          const docLinkHtml = 'Like what you see? Visit the ' +\n",
              "            '<a target=\"_blank\" href=https://colab.research.google.com/notebooks/data_table.ipynb>data table notebook</a>'\n",
              "            + ' to learn more about interactive tables.';\n",
              "          element.innerHTML = '';\n",
              "          dataTable['output_type'] = 'display_data';\n",
              "          await google.colab.output.renderOutput(dataTable, element);\n",
              "          const docLink = document.createElement('div');\n",
              "          docLink.innerHTML = docLinkHtml;\n",
              "          element.appendChild(docLink);\n",
              "        }\n",
              "      </script>\n",
              "    </div>\n",
              "  </div>\n",
              "  "
            ]
          },
          "metadata": {},
          "execution_count": 3
        }
      ]
    },
    {
      "cell_type": "code",
      "source": [
        "df.shape"
      ],
      "metadata": {
        "id": "HThheN_3T0Fq",
        "outputId": "ee90713a-c59e-4d38-90ca-14fabf183503",
        "colab": {
          "base_uri": "https://localhost:8080/"
        }
      },
      "execution_count": null,
      "outputs": [
        {
          "output_type": "execute_result",
          "data": {
            "text/plain": [
              "(2909, 135)"
            ]
          },
          "metadata": {},
          "execution_count": 4
        }
      ]
    },
    {
      "cell_type": "code",
      "source": [
        "df.columns"
      ],
      "metadata": {
        "id": "3ODAQxhPT1Ea",
        "outputId": "70cfc4f6-fe2e-45dc-b56d-1d912223215b",
        "colab": {
          "base_uri": "https://localhost:8080/"
        }
      },
      "execution_count": null,
      "outputs": [
        {
          "output_type": "execute_result",
          "data": {
            "text/plain": [
              "Index(['eventid', 'iyear', 'imonth', 'iday', 'approxdate', 'extended',\n",
              "       'resolution', 'country', 'country_txt', 'region',\n",
              "       ...\n",
              "       'addnotes', 'scite1', 'scite2', 'scite3', 'dbsource', 'INT_LOG',\n",
              "       'INT_IDEO', 'INT_MISC', 'INT_ANY', 'related'],\n",
              "      dtype='object', length=135)"
            ]
          },
          "metadata": {},
          "execution_count": 5
        }
      ]
    },
    {
      "cell_type": "markdown",
      "source": [
        "**Renaming and taking only important data columns**"
      ],
      "metadata": {
        "id": "tfopentsT3h9"
      }
    },
    {
      "cell_type": "code",
      "source": [
        "#describe our dataset\n",
        "df.describe()"
      ],
      "metadata": {
        "id": "OC2jUhU-T7TO",
        "outputId": "f3d4c356-ddd0-4a2a-925d-a98c0410cb2e",
        "colab": {
          "base_uri": "https://localhost:8080/",
          "height": 394
        }
      },
      "execution_count": null,
      "outputs": [
        {
          "output_type": "execute_result",
          "data": {
            "text/plain": [
              "            eventid        iyear       imonth         iday     extended  \\\n",
              "count  2.909000e+03  2909.000000  2909.000000  2909.000000  2909.000000   \n",
              "mean   1.972186e+11  1972.122723     6.138536    15.382606     0.032314   \n",
              "std    1.584058e+08     1.585828     3.421309     9.095383     0.176862   \n",
              "min    1.970000e+11  1970.000000     0.000000     0.000000     0.000000   \n",
              "25%    1.971022e+11  1971.000000     3.000000     7.000000     0.000000   \n",
              "50%    1.972083e+11  1972.000000     6.000000    16.000000     0.000000   \n",
              "75%    1.974011e+11  1974.000000     9.000000    23.000000     0.000000   \n",
              "max    1.975033e+11  1975.000000    12.000000    31.000000     1.000000   \n",
              "\n",
              "           country       region     latitude    longitude  specificity  ...  \\\n",
              "count  2909.000000  2909.000000  2861.000000  2861.000000  2909.000000  ...   \n",
              "mean    294.377106     5.131317    35.713904   -35.403239     1.088003  ...   \n",
              "std     208.206269     3.510636    24.617529    53.617887     0.563527  ...   \n",
              "min       4.000000     1.000000   -43.532054  -157.818968     1.000000  ...   \n",
              "25%     185.000000     1.000000    34.097866   -75.135490     1.000000  ...   \n",
              "50%     217.000000     8.000000    40.697132    -7.312045     1.000000  ...   \n",
              "75%     603.000000     8.000000    54.183052    -1.977903     1.000000  ...   \n",
              "max     605.000000    12.000000    59.332788   172.636225     5.000000  ...   \n",
              "\n",
              "          ransomamt  ransomamtus    ransompaid  ransompaidus  hostkidoutcome  \\\n",
              "count  8.900000e+01          1.0  3.400000e+01           0.0      161.000000   \n",
              "mean   1.531135e+06      20000.0  2.518029e+06           NaN        2.782609   \n",
              "std    6.758437e+06          NaN  7.441265e+06           NaN        1.283042   \n",
              "min    0.000000e+00      20000.0  0.000000e+00           NaN        2.000000   \n",
              "25%    0.000000e+00      20000.0  2.875000e+04           NaN        2.000000   \n",
              "50%    8.000000e+04      20000.0  1.050000e+05           NaN        2.000000   \n",
              "75%    8.000000e+05      20000.0  1.000000e+06           NaN        4.000000   \n",
              "max    6.100000e+07      20000.0  4.100000e+07           NaN        7.000000   \n",
              "\n",
              "        nreleased      INT_LOG     INT_IDEO     INT_MISC      INT_ANY  \n",
              "count  115.000000  2908.000000  2908.000000  2908.000000  2908.000000  \n",
              "mean     9.852174    -3.232462    -3.148900     0.527510    -1.452545  \n",
              "std     35.175561     4.454597     4.530162     0.682676     4.129835  \n",
              "min    -99.000000    -9.000000    -9.000000    -9.000000    -9.000000  \n",
              "25%      1.000000    -9.000000    -9.000000     0.000000     0.000000  \n",
              "50%      1.000000     0.000000     0.000000     1.000000     1.000000  \n",
              "75%      1.500000     0.000000     0.000000     1.000000     1.000000  \n",
              "max    187.000000     1.000000     1.000000     1.000000     1.000000  \n",
              "\n",
              "[8 rows x 84 columns]"
            ],
            "text/html": [
              "\n",
              "  <div id=\"df-832be626-2bef-41a0-9421-ef2397a12d33\">\n",
              "    <div class=\"colab-df-container\">\n",
              "      <div>\n",
              "<style scoped>\n",
              "    .dataframe tbody tr th:only-of-type {\n",
              "        vertical-align: middle;\n",
              "    }\n",
              "\n",
              "    .dataframe tbody tr th {\n",
              "        vertical-align: top;\n",
              "    }\n",
              "\n",
              "    .dataframe thead th {\n",
              "        text-align: right;\n",
              "    }\n",
              "</style>\n",
              "<table border=\"1\" class=\"dataframe\">\n",
              "  <thead>\n",
              "    <tr style=\"text-align: right;\">\n",
              "      <th></th>\n",
              "      <th>eventid</th>\n",
              "      <th>iyear</th>\n",
              "      <th>imonth</th>\n",
              "      <th>iday</th>\n",
              "      <th>extended</th>\n",
              "      <th>country</th>\n",
              "      <th>region</th>\n",
              "      <th>latitude</th>\n",
              "      <th>longitude</th>\n",
              "      <th>specificity</th>\n",
              "      <th>...</th>\n",
              "      <th>ransomamt</th>\n",
              "      <th>ransomamtus</th>\n",
              "      <th>ransompaid</th>\n",
              "      <th>ransompaidus</th>\n",
              "      <th>hostkidoutcome</th>\n",
              "      <th>nreleased</th>\n",
              "      <th>INT_LOG</th>\n",
              "      <th>INT_IDEO</th>\n",
              "      <th>INT_MISC</th>\n",
              "      <th>INT_ANY</th>\n",
              "    </tr>\n",
              "  </thead>\n",
              "  <tbody>\n",
              "    <tr>\n",
              "      <th>count</th>\n",
              "      <td>2.909000e+03</td>\n",
              "      <td>2909.000000</td>\n",
              "      <td>2909.000000</td>\n",
              "      <td>2909.000000</td>\n",
              "      <td>2909.000000</td>\n",
              "      <td>2909.000000</td>\n",
              "      <td>2909.000000</td>\n",
              "      <td>2861.000000</td>\n",
              "      <td>2861.000000</td>\n",
              "      <td>2909.000000</td>\n",
              "      <td>...</td>\n",
              "      <td>8.900000e+01</td>\n",
              "      <td>1.0</td>\n",
              "      <td>3.400000e+01</td>\n",
              "      <td>0.0</td>\n",
              "      <td>161.000000</td>\n",
              "      <td>115.000000</td>\n",
              "      <td>2908.000000</td>\n",
              "      <td>2908.000000</td>\n",
              "      <td>2908.000000</td>\n",
              "      <td>2908.000000</td>\n",
              "    </tr>\n",
              "    <tr>\n",
              "      <th>mean</th>\n",
              "      <td>1.972186e+11</td>\n",
              "      <td>1972.122723</td>\n",
              "      <td>6.138536</td>\n",
              "      <td>15.382606</td>\n",
              "      <td>0.032314</td>\n",
              "      <td>294.377106</td>\n",
              "      <td>5.131317</td>\n",
              "      <td>35.713904</td>\n",
              "      <td>-35.403239</td>\n",
              "      <td>1.088003</td>\n",
              "      <td>...</td>\n",
              "      <td>1.531135e+06</td>\n",
              "      <td>20000.0</td>\n",
              "      <td>2.518029e+06</td>\n",
              "      <td>NaN</td>\n",
              "      <td>2.782609</td>\n",
              "      <td>9.852174</td>\n",
              "      <td>-3.232462</td>\n",
              "      <td>-3.148900</td>\n",
              "      <td>0.527510</td>\n",
              "      <td>-1.452545</td>\n",
              "    </tr>\n",
              "    <tr>\n",
              "      <th>std</th>\n",
              "      <td>1.584058e+08</td>\n",
              "      <td>1.585828</td>\n",
              "      <td>3.421309</td>\n",
              "      <td>9.095383</td>\n",
              "      <td>0.176862</td>\n",
              "      <td>208.206269</td>\n",
              "      <td>3.510636</td>\n",
              "      <td>24.617529</td>\n",
              "      <td>53.617887</td>\n",
              "      <td>0.563527</td>\n",
              "      <td>...</td>\n",
              "      <td>6.758437e+06</td>\n",
              "      <td>NaN</td>\n",
              "      <td>7.441265e+06</td>\n",
              "      <td>NaN</td>\n",
              "      <td>1.283042</td>\n",
              "      <td>35.175561</td>\n",
              "      <td>4.454597</td>\n",
              "      <td>4.530162</td>\n",
              "      <td>0.682676</td>\n",
              "      <td>4.129835</td>\n",
              "    </tr>\n",
              "    <tr>\n",
              "      <th>min</th>\n",
              "      <td>1.970000e+11</td>\n",
              "      <td>1970.000000</td>\n",
              "      <td>0.000000</td>\n",
              "      <td>0.000000</td>\n",
              "      <td>0.000000</td>\n",
              "      <td>4.000000</td>\n",
              "      <td>1.000000</td>\n",
              "      <td>-43.532054</td>\n",
              "      <td>-157.818968</td>\n",
              "      <td>1.000000</td>\n",
              "      <td>...</td>\n",
              "      <td>0.000000e+00</td>\n",
              "      <td>20000.0</td>\n",
              "      <td>0.000000e+00</td>\n",
              "      <td>NaN</td>\n",
              "      <td>2.000000</td>\n",
              "      <td>-99.000000</td>\n",
              "      <td>-9.000000</td>\n",
              "      <td>-9.000000</td>\n",
              "      <td>-9.000000</td>\n",
              "      <td>-9.000000</td>\n",
              "    </tr>\n",
              "    <tr>\n",
              "      <th>25%</th>\n",
              "      <td>1.971022e+11</td>\n",
              "      <td>1971.000000</td>\n",
              "      <td>3.000000</td>\n",
              "      <td>7.000000</td>\n",
              "      <td>0.000000</td>\n",
              "      <td>185.000000</td>\n",
              "      <td>1.000000</td>\n",
              "      <td>34.097866</td>\n",
              "      <td>-75.135490</td>\n",
              "      <td>1.000000</td>\n",
              "      <td>...</td>\n",
              "      <td>0.000000e+00</td>\n",
              "      <td>20000.0</td>\n",
              "      <td>2.875000e+04</td>\n",
              "      <td>NaN</td>\n",
              "      <td>2.000000</td>\n",
              "      <td>1.000000</td>\n",
              "      <td>-9.000000</td>\n",
              "      <td>-9.000000</td>\n",
              "      <td>0.000000</td>\n",
              "      <td>0.000000</td>\n",
              "    </tr>\n",
              "    <tr>\n",
              "      <th>50%</th>\n",
              "      <td>1.972083e+11</td>\n",
              "      <td>1972.000000</td>\n",
              "      <td>6.000000</td>\n",
              "      <td>16.000000</td>\n",
              "      <td>0.000000</td>\n",
              "      <td>217.000000</td>\n",
              "      <td>8.000000</td>\n",
              "      <td>40.697132</td>\n",
              "      <td>-7.312045</td>\n",
              "      <td>1.000000</td>\n",
              "      <td>...</td>\n",
              "      <td>8.000000e+04</td>\n",
              "      <td>20000.0</td>\n",
              "      <td>1.050000e+05</td>\n",
              "      <td>NaN</td>\n",
              "      <td>2.000000</td>\n",
              "      <td>1.000000</td>\n",
              "      <td>0.000000</td>\n",
              "      <td>0.000000</td>\n",
              "      <td>1.000000</td>\n",
              "      <td>1.000000</td>\n",
              "    </tr>\n",
              "    <tr>\n",
              "      <th>75%</th>\n",
              "      <td>1.974011e+11</td>\n",
              "      <td>1974.000000</td>\n",
              "      <td>9.000000</td>\n",
              "      <td>23.000000</td>\n",
              "      <td>0.000000</td>\n",
              "      <td>603.000000</td>\n",
              "      <td>8.000000</td>\n",
              "      <td>54.183052</td>\n",
              "      <td>-1.977903</td>\n",
              "      <td>1.000000</td>\n",
              "      <td>...</td>\n",
              "      <td>8.000000e+05</td>\n",
              "      <td>20000.0</td>\n",
              "      <td>1.000000e+06</td>\n",
              "      <td>NaN</td>\n",
              "      <td>4.000000</td>\n",
              "      <td>1.500000</td>\n",
              "      <td>0.000000</td>\n",
              "      <td>0.000000</td>\n",
              "      <td>1.000000</td>\n",
              "      <td>1.000000</td>\n",
              "    </tr>\n",
              "    <tr>\n",
              "      <th>max</th>\n",
              "      <td>1.975033e+11</td>\n",
              "      <td>1975.000000</td>\n",
              "      <td>12.000000</td>\n",
              "      <td>31.000000</td>\n",
              "      <td>1.000000</td>\n",
              "      <td>605.000000</td>\n",
              "      <td>12.000000</td>\n",
              "      <td>59.332788</td>\n",
              "      <td>172.636225</td>\n",
              "      <td>5.000000</td>\n",
              "      <td>...</td>\n",
              "      <td>6.100000e+07</td>\n",
              "      <td>20000.0</td>\n",
              "      <td>4.100000e+07</td>\n",
              "      <td>NaN</td>\n",
              "      <td>7.000000</td>\n",
              "      <td>187.000000</td>\n",
              "      <td>1.000000</td>\n",
              "      <td>1.000000</td>\n",
              "      <td>1.000000</td>\n",
              "      <td>1.000000</td>\n",
              "    </tr>\n",
              "  </tbody>\n",
              "</table>\n",
              "<p>8 rows × 84 columns</p>\n",
              "</div>\n",
              "      <button class=\"colab-df-convert\" onclick=\"convertToInteractive('df-832be626-2bef-41a0-9421-ef2397a12d33')\"\n",
              "              title=\"Convert this dataframe to an interactive table.\"\n",
              "              style=\"display:none;\">\n",
              "        \n",
              "  <svg xmlns=\"http://www.w3.org/2000/svg\" height=\"24px\"viewBox=\"0 0 24 24\"\n",
              "       width=\"24px\">\n",
              "    <path d=\"M0 0h24v24H0V0z\" fill=\"none\"/>\n",
              "    <path d=\"M18.56 5.44l.94 2.06.94-2.06 2.06-.94-2.06-.94-.94-2.06-.94 2.06-2.06.94zm-11 1L8.5 8.5l.94-2.06 2.06-.94-2.06-.94L8.5 2.5l-.94 2.06-2.06.94zm10 10l.94 2.06.94-2.06 2.06-.94-2.06-.94-.94-2.06-.94 2.06-2.06.94z\"/><path d=\"M17.41 7.96l-1.37-1.37c-.4-.4-.92-.59-1.43-.59-.52 0-1.04.2-1.43.59L10.3 9.45l-7.72 7.72c-.78.78-.78 2.05 0 2.83L4 21.41c.39.39.9.59 1.41.59.51 0 1.02-.2 1.41-.59l7.78-7.78 2.81-2.81c.8-.78.8-2.07 0-2.86zM5.41 20L4 18.59l7.72-7.72 1.47 1.35L5.41 20z\"/>\n",
              "  </svg>\n",
              "      </button>\n",
              "      \n",
              "  <style>\n",
              "    .colab-df-container {\n",
              "      display:flex;\n",
              "      flex-wrap:wrap;\n",
              "      gap: 12px;\n",
              "    }\n",
              "\n",
              "    .colab-df-convert {\n",
              "      background-color: #E8F0FE;\n",
              "      border: none;\n",
              "      border-radius: 50%;\n",
              "      cursor: pointer;\n",
              "      display: none;\n",
              "      fill: #1967D2;\n",
              "      height: 32px;\n",
              "      padding: 0 0 0 0;\n",
              "      width: 32px;\n",
              "    }\n",
              "\n",
              "    .colab-df-convert:hover {\n",
              "      background-color: #E2EBFA;\n",
              "      box-shadow: 0px 1px 2px rgba(60, 64, 67, 0.3), 0px 1px 3px 1px rgba(60, 64, 67, 0.15);\n",
              "      fill: #174EA6;\n",
              "    }\n",
              "\n",
              "    [theme=dark] .colab-df-convert {\n",
              "      background-color: #3B4455;\n",
              "      fill: #D2E3FC;\n",
              "    }\n",
              "\n",
              "    [theme=dark] .colab-df-convert:hover {\n",
              "      background-color: #434B5C;\n",
              "      box-shadow: 0px 1px 3px 1px rgba(0, 0, 0, 0.15);\n",
              "      filter: drop-shadow(0px 1px 2px rgba(0, 0, 0, 0.3));\n",
              "      fill: #FFFFFF;\n",
              "    }\n",
              "  </style>\n",
              "\n",
              "      <script>\n",
              "        const buttonEl =\n",
              "          document.querySelector('#df-832be626-2bef-41a0-9421-ef2397a12d33 button.colab-df-convert');\n",
              "        buttonEl.style.display =\n",
              "          google.colab.kernel.accessAllowed ? 'block' : 'none';\n",
              "\n",
              "        async function convertToInteractive(key) {\n",
              "          const element = document.querySelector('#df-832be626-2bef-41a0-9421-ef2397a12d33');\n",
              "          const dataTable =\n",
              "            await google.colab.kernel.invokeFunction('convertToInteractive',\n",
              "                                                     [key], {});\n",
              "          if (!dataTable) return;\n",
              "\n",
              "          const docLinkHtml = 'Like what you see? Visit the ' +\n",
              "            '<a target=\"_blank\" href=https://colab.research.google.com/notebooks/data_table.ipynb>data table notebook</a>'\n",
              "            + ' to learn more about interactive tables.';\n",
              "          element.innerHTML = '';\n",
              "          dataTable['output_type'] = 'display_data';\n",
              "          await google.colab.output.renderOutput(dataTable, element);\n",
              "          const docLink = document.createElement('div');\n",
              "          docLink.innerHTML = docLinkHtml;\n",
              "          element.appendChild(docLink);\n",
              "        }\n",
              "      </script>\n",
              "    </div>\n",
              "  </div>\n",
              "  "
            ]
          },
          "metadata": {},
          "execution_count": 6
        }
      ]
    },
    {
      "cell_type": "code",
      "source": [
        "df.rename(columns={'iyear':'Year', 'imonth':'Month', 'iday':'Day', 'country_txt':'Country', 'region_txt':'Region', 'provstate':'Provstate', \n",
        "                   'city':'City', 'attacktype1_txt':'Attacktype', 'target1':'Target', 'nkill':'Nkill', 'nwound':'Nwound', 'summary':'Summary', \n",
        "                   'weaptype1_txt':'Weaptype', 'motive':'Motive', 'crit1':'Crit1', 'crit2':'Crit2', 'crit3':'Crit3', 'success':'Success', 'suicide':'Suicide',\n",
        "                   'targtype1_txt':'Targtype', 'natlty1_txt':'Natlty1', 'natlty2_txt':'Natlty2','natlty3_txt':'Natlty3','gname':'Gname', \n",
        "                   'guncertain1': 'Guncertain1', 'claimed':'Claimed'}, inplace=True)"
      ],
      "metadata": {
        "id": "N4r7awlYT9jT"
      },
      "execution_count": null,
      "outputs": []
    },
    {
      "cell_type": "markdown",
      "source": [
        "**Keeping only important column**"
      ],
      "metadata": {
        "id": "vsarv4TqUB9u"
      }
    },
    {
      "cell_type": "code",
      "source": [
        "data=df[['Year', 'Country', 'Region','Provstate', 'City', 'Crit1', 'Crit2', 'Crit3',\n",
        "         'Success', 'Suicide', 'Attacktype', 'Targtype', 'Natlty1', 'Gname', 'Guncertain1',\n",
        "         'Claimed', 'Weaptype','Nkill', 'Nwound', 'Motive']]"
      ],
      "metadata": {
        "id": "qfFV5LCuUGeF"
      },
      "execution_count": null,
      "outputs": []
    },
    {
      "cell_type": "code",
      "source": [
        "data.info()"
      ],
      "metadata": {
        "id": "bB9CHH2WUJ0L",
        "outputId": "9e97ae36-fff6-4372-a11a-836a4d087f9c",
        "colab": {
          "base_uri": "https://localhost:8080/"
        }
      },
      "execution_count": null,
      "outputs": [
        {
          "output_type": "stream",
          "name": "stdout",
          "text": [
            "<class 'pandas.core.frame.DataFrame'>\n",
            "RangeIndex: 2909 entries, 0 to 2908\n",
            "Data columns (total 20 columns):\n",
            " #   Column       Non-Null Count  Dtype  \n",
            "---  ------       --------------  -----  \n",
            " 0   Year         2909 non-null   int64  \n",
            " 1   Country      2909 non-null   object \n",
            " 2   Region       2909 non-null   object \n",
            " 3   Provstate    2899 non-null   object \n",
            " 4   City         2909 non-null   object \n",
            " 5   Crit1        2909 non-null   int64  \n",
            " 6   Crit2        2909 non-null   int64  \n",
            " 7   Crit3        2909 non-null   int64  \n",
            " 8   Success      2909 non-null   int64  \n",
            " 9   Suicide      2909 non-null   int64  \n",
            " 10  Attacktype   2909 non-null   object \n",
            " 11  Targtype     2909 non-null   object \n",
            " 12  Natlty1      2901 non-null   object \n",
            " 13  Gname        2909 non-null   object \n",
            " 14  Guncertain1  2909 non-null   int64  \n",
            " 15  Claimed      725 non-null    float64\n",
            " 16  Weaptype     2909 non-null   object \n",
            " 17  Nkill        2604 non-null   float64\n",
            " 18  Nwound       1847 non-null   float64\n",
            " 19  Motive       460 non-null    object \n",
            "dtypes: float64(3), int64(7), object(10)\n",
            "memory usage: 454.7+ KB\n"
          ]
        }
      ]
    },
    {
      "cell_type": "markdown",
      "source": [
        "**Data Analysis**\n",
        "\n",
        "Data Important Info"
      ],
      "metadata": {
        "id": "zPc2Oll6UROS"
      }
    },
    {
      "cell_type": "code",
      "source": [
        "print('Country with the highest number of Terrorist Attacks:',data['Country'].value_counts().index[0])\n",
        "print('Regions with the highest number of Terrorist Attacks:',data['Region'].value_counts().index[0])\n",
        "print('Maximum number of people were killed by a single terrrorist attack are', data['Nkill'].max(), 'people that place in', data.loc[data['Nkill'].idxmax()])\n",
        "print(\"Year with most attacks:\" , data['Year'].value_counts().idxmax())\n",
        "print(\"Group with most attacks:\", data['Gname'].value_counts().index[1]) #as most of the attack was done by unknown we are taking the next group name\n",
        "print(\"Most Attack Types:\", data['Attacktype'].value_counts().idxmax())"
      ],
      "metadata": {
        "id": "T3GLD7UhUKrv",
        "outputId": "128fbbac-d7ac-4dc9-a3ab-a040dd824683",
        "colab": {
          "base_uri": "https://localhost:8080/"
        }
      },
      "execution_count": null,
      "outputs": [
        {
          "output_type": "stream",
          "name": "stdout",
          "text": [
            "Country with the highest number of Terrorist Attacks: United States\n",
            "Regions with the highest number of Terrorist Attacks: Western Europe\n",
            "Maximum number of people were killed by a single terrrorist attack are 88.0 people that place in Year                                                        1974\n",
            "Country                                                   Greece\n",
            "Region                                            Western Europe\n",
            "Provstate                                                 Attica\n",
            "City                                                      Athens\n",
            "Crit1                                                          1\n",
            "Crit2                                                          1\n",
            "Crit3                                                          1\n",
            "Success                                                        1\n",
            "Suicide                                                        0\n",
            "Attacktype                                     Bombing/Explosion\n",
            "Targtype                                     Airports & Aircraft\n",
            "Natlty1                                            United States\n",
            "Gname          Popular Front for the Liberation of Palestine,...\n",
            "Guncertain1                                                    0\n",
            "Claimed                                                      NaN\n",
            "Weaptype                                              Explosives\n",
            "Nkill                                                       88.0\n",
            "Nwound                                                       0.0\n",
            "Motive                                                       NaN\n",
            "Name: 2531, dtype: object\n",
            "Year with most attacks: 1970\n",
            "Group with most attacks: Irish Republican Army (IRA)\n",
            "Most Attack Types: Bombing/Explosion\n"
          ]
        }
      ]
    },
    {
      "cell_type": "markdown",
      "source": [
        "**Let see the word cloud of states where terrrorist attacked**"
      ],
      "metadata": {
        "id": "is18siCmUeWS"
      }
    },
    {
      "cell_type": "code",
      "source": [
        "from wordcloud import WordCloud\n",
        "from scipy import signal\n",
        "cities= data.Provstate.dropna(False)\n",
        "plt.subplots(figsize=(10,10))\n",
        "wordcloud= WordCloud(background_color='white', width= 512, height= 384).generate(' '.join(cities))\n",
        "plt.axis('off')\n",
        "plt.imshow(wordcloud)\n",
        "plt.show()"
      ],
      "metadata": {
        "id": "pK0ntBuQUhbi",
        "outputId": "e71f7ab5-3b31-4314-ef86-415ecf47354a",
        "colab": {
          "base_uri": "https://localhost:8080/",
          "height": 449
        }
      },
      "execution_count": null,
      "outputs": [
        {
          "output_type": "display_data",
          "data": {
            "text/plain": [
              "<Figure size 720x720 with 1 Axes>"
            ],
            "image/png": "[encoded data removed]"
          },
          "metadata": {
            "needs_background": "light"
          }
        }
      ]
    },
    {
      "cell_type": "markdown",
      "source": [
        "**Data analysis of Global Terrorism from 1970 to 2017**"
      ],
      "metadata": {
        "id": "dIoDH1kWUmHm"
      }
    },
    {
      "cell_type": "code",
      "source": [
        "data['Year'].value_counts(dropna=False).sort_index()"
      ],
      "metadata": {
        "id": "CMhIWLVBUo6p",
        "outputId": "aa900f39-049a-4fd8-dfed-40e03f422ee9",
        "colab": {
          "base_uri": "https://localhost:8080/"
        }
      },
      "execution_count": null,
      "outputs": [
        {
          "output_type": "execute_result",
          "data": {
            "text/plain": [
              "1970    651\n",
              "1971    471\n",
              "1972    568\n",
              "1973    473\n",
              "1974    581\n",
              "1975    165\n",
              "Name: Year, dtype: int64"
            ]
          },
          "metadata": {},
          "execution_count": 12
        }
      ]
    },
    {
      "cell_type": "markdown",
      "source": [
        "**Data Visualization**\n",
        "\n",
        "Number of Attacks each year from 1970 to 2017"
      ],
      "metadata": {
        "id": "WYPTJ_kJUxCu"
      }
    },
    {
      "cell_type": "code",
      "source": [
        "x_year = data['Year'].unique()\n",
        "y_count_years= data['Year'].value_counts(dropna=False).sort_index()\n",
        "plt.figure(figsize=(18,8))\n",
        "sns.barplot(x= x_year, y= y_count_years, palette= 'mako')\n",
        "plt.xticks(rotation=45)\n",
        "plt.xlabel('Year of Attack')\n",
        "plt.ylabel('Number of Attacks each year')\n",
        "plt.title('Attacks vs Years')\n",
        "plt.show()"
      ],
      "metadata": {
        "id": "r1s8iratU1-x",
        "outputId": "ab6af1ce-b48b-4206-c550-2c44601c6ad4",
        "colab": {
          "base_uri": "https://localhost:8080/",
          "height": 528
        }
      },
      "execution_count": null,
      "outputs": [
        {
          "output_type": "display_data",
          "data": {
            "text/plain": [
              "<Figure size 1296x576 with 1 Axes>"
            ],
            "image/png": "[encoded data removed]"
          },
          "metadata": {
            "needs_background": "light"
          }
        }
      ]
    },
    {
      "cell_type": "markdown",
      "source": [
        "**Terrorist activities by Region in each Year through Area Plot**"
      ],
      "metadata": {
        "id": "OUPTLXh1U470"
      }
    },
    {
      "cell_type": "code",
      "source": [
        "pd.crosstab(data.Year, data.Region).plot(kind='area', figsize=(10,6))\n",
        "plt.title('Terrorist Activities by Region in each year')\n",
        "plt.ylabel('Number of Attacks')\n",
        "plt.show()"
      ],
      "metadata": {
        "id": "IPYuSav2U67x",
        "outputId": "2e57dd6b-6a4f-4652-a3a1-a07d61f839cd",
        "colab": {
          "base_uri": "https://localhost:8080/",
          "height": 404
        }
      },
      "execution_count": null,
      "outputs": [
        {
          "output_type": "display_data",
          "data": {
            "text/plain": [
              "<Figure size 720x432 with 1 Axes>"
            ],
            "image/png": "[encoded data removed]"
          },
          "metadata": {
            "needs_background": "light"
          }
        }
      ]
    },
    {
      "cell_type": "markdown",
      "source": [
        "**Taking Nulldata to zero and combining kill and wound as a Damage**"
      ],
      "metadata": {
        "id": "qzs2D7rfU-or"
      }
    },
    {
      "cell_type": "code",
      "source": [
        "data['Nwound']=data['Nwound'].fillna(0).astype(int)\n",
        "data['Nkill']=data['Nkill'].fillna(0).astype(int)\n",
        "data['Damage']=data['Nkill']+data['Nwound']"
      ],
      "metadata": {
        "id": "Kp7bg2EuVCP_"
      },
      "execution_count": null,
      "outputs": []
    },
    {
      "cell_type": "code",
      "source": [
        "data['Damage']"
      ],
      "metadata": {
        "id": "HQTcxgrRVEki",
        "outputId": "0ee22ece-682e-48f1-b0c3-6c28bbcab345",
        "colab": {
          "base_uri": "https://localhost:8080/"
        }
      },
      "execution_count": null,
      "outputs": [
        {
          "output_type": "execute_result",
          "data": {
            "text/plain": [
              "0       1\n",
              "1       0\n",
              "2       1\n",
              "3       0\n",
              "4       0\n",
              "       ..\n",
              "2904    0\n",
              "2905    0\n",
              "2906    0\n",
              "2907    0\n",
              "2908    0\n",
              "Name: Damage, Length: 2909, dtype: int64"
            ]
          },
          "metadata": {},
          "execution_count": 16
        }
      ]
    },
    {
      "cell_type": "markdown",
      "source": [
        "**Top worst Terror Attacks in History from 1970 to 2017**"
      ],
      "metadata": {
        "id": "43yHRMvCVHOV"
      }
    },
    {
      "cell_type": "code",
      "source": [
        "terror1=data.sort_values(by='Damage', ascending=False)[:40]"
      ],
      "metadata": {
        "id": "k4q78gTTVK15"
      },
      "execution_count": null,
      "outputs": []
    },
    {
      "cell_type": "code",
      "source": [
        "heat=terror1.pivot_table(index='Country', columns='Year', values='Damage')\n",
        "heat.fillna(0, inplace=True)\n",
        "heat.head(10)"
      ],
      "metadata": {
        "id": "PJXCFI-XVOEI",
        "outputId": "a90633fa-68e8-41fc-c3fa-02a60ea5884a",
        "colab": {
          "base_uri": "https://localhost:8080/",
          "height": 394
        }
      },
      "execution_count": null,
      "outputs": [
        {
          "output_type": "execute_result",
          "data": {
            "text/plain": [
              "Year            1970  1971  1972  1973       1974   1975\n",
              "Country                                                 \n",
              "Czechoslovakia   0.0   0.0  26.0   0.0   0.000000    0.0\n",
              "France           0.0   0.0   0.0  23.0  36.000000    0.0\n",
              "Greece           0.0   0.0   0.0  60.0  88.000000    0.0\n",
              "Ireland          0.0   0.0   0.0   0.0  26.000000    0.0\n",
              "Israel           0.0   0.0  98.0  20.0  57.333333    0.0\n",
              "Italy            0.0   0.0   0.0  55.5  85.000000    0.0\n",
              "Kenya            0.0   0.0   0.0   0.0   0.000000  127.0\n",
              "Pakistan        24.0   0.0   0.0   0.0   0.000000    0.0\n",
              "Philippines     36.0   0.0   0.0   0.0   0.000000    0.0\n",
              "South Vietnam    0.0   0.0  81.0   0.0   0.000000    0.0"
            ],
            "text/html": [
              "\n",
              "  <div id=\"df-7a008d5b-e77d-40ae-9abe-8de96c20e5e4\">\n",
              "    <div class=\"colab-df-container\">\n",
              "      <div>\n",
              "<style scoped>\n",
              "    .dataframe tbody tr th:only-of-type {\n",
              "        vertical-align: middle;\n",
              "    }\n",
              "\n",
              "    .dataframe tbody tr th {\n",
              "        vertical-align: top;\n",
              "    }\n",
              "\n",
              "    .dataframe thead th {\n",
              "        text-align: right;\n",
              "    }\n",
              "</style>\n",
              "<table border=\"1\" class=\"dataframe\">\n",
              "  <thead>\n",
              "    <tr style=\"text-align: right;\">\n",
              "      <th>Year</th>\n",
              "      <th>1970</th>\n",
              "      <th>1971</th>\n",
              "      <th>1972</th>\n",
              "      <th>1973</th>\n",
              "      <th>1974</th>\n",
              "      <th>1975</th>\n",
              "    </tr>\n",
              "    <tr>\n",
              "      <th>Country</th>\n",
              "      <th></th>\n",
              "      <th></th>\n",
              "      <th></th>\n",
              "      <th></th>\n",
              "      <th></th>\n",
              "      <th></th>\n",
              "    </tr>\n",
              "  </thead>\n",
              "  <tbody>\n",
              "    <tr>\n",
              "      <th>Czechoslovakia</th>\n",
              "      <td>0.0</td>\n",
              "      <td>0.0</td>\n",
              "      <td>26.0</td>\n",
              "      <td>0.0</td>\n",
              "      <td>0.000000</td>\n",
              "      <td>0.0</td>\n",
              "    </tr>\n",
              "    <tr>\n",
              "      <th>France</th>\n",
              "      <td>0.0</td>\n",
              "      <td>0.0</td>\n",
              "      <td>0.0</td>\n",
              "      <td>23.0</td>\n",
              "      <td>36.000000</td>\n",
              "      <td>0.0</td>\n",
              "    </tr>\n",
              "    <tr>\n",
              "      <th>Greece</th>\n",
              "      <td>0.0</td>\n",
              "      <td>0.0</td>\n",
              "      <td>0.0</td>\n",
              "      <td>60.0</td>\n",
              "      <td>88.000000</td>\n",
              "      <td>0.0</td>\n",
              "    </tr>\n",
              "    <tr>\n",
              "      <th>Ireland</th>\n",
              "      <td>0.0</td>\n",
              "      <td>0.0</td>\n",
              "      <td>0.0</td>\n",
              "      <td>0.0</td>\n",
              "      <td>26.000000</td>\n",
              "      <td>0.0</td>\n",
              "    </tr>\n",
              "    <tr>\n",
              "      <th>Israel</th>\n",
              "      <td>0.0</td>\n",
              "      <td>0.0</td>\n",
              "      <td>98.0</td>\n",
              "      <td>20.0</td>\n",
              "      <td>57.333333</td>\n",
              "      <td>0.0</td>\n",
              "    </tr>\n",
              "    <tr>\n",
              "      <th>Italy</th>\n",
              "      <td>0.0</td>\n",
              "      <td>0.0</td>\n",
              "      <td>0.0</td>\n",
              "      <td>55.5</td>\n",
              "      <td>85.000000</td>\n",
              "      <td>0.0</td>\n",
              "    </tr>\n",
              "    <tr>\n",
              "      <th>Kenya</th>\n",
              "      <td>0.0</td>\n",
              "      <td>0.0</td>\n",
              "      <td>0.0</td>\n",
              "      <td>0.0</td>\n",
              "      <td>0.000000</td>\n",
              "      <td>127.0</td>\n",
              "    </tr>\n",
              "    <tr>\n",
              "      <th>Pakistan</th>\n",
              "      <td>24.0</td>\n",
              "      <td>0.0</td>\n",
              "      <td>0.0</td>\n",
              "      <td>0.0</td>\n",
              "      <td>0.000000</td>\n",
              "      <td>0.0</td>\n",
              "    </tr>\n",
              "    <tr>\n",
              "      <th>Philippines</th>\n",
              "      <td>36.0</td>\n",
              "      <td>0.0</td>\n",
              "      <td>0.0</td>\n",
              "      <td>0.0</td>\n",
              "      <td>0.000000</td>\n",
              "      <td>0.0</td>\n",
              "    </tr>\n",
              "    <tr>\n",
              "      <th>South Vietnam</th>\n",
              "      <td>0.0</td>\n",
              "      <td>0.0</td>\n",
              "      <td>81.0</td>\n",
              "      <td>0.0</td>\n",
              "      <td>0.000000</td>\n",
              "      <td>0.0</td>\n",
              "    </tr>\n",
              "  </tbody>\n",
              "</table>\n",
              "</div>\n",
              "      <button class=\"colab-df-convert\" onclick=\"convertToInteractive('df-7a008d5b-e77d-40ae-9abe-8de96c20e5e4')\"\n",
              "              title=\"Convert this dataframe to an interactive table.\"\n",
              "              style=\"display:none;\">\n",
              "        \n",
              "  <svg xmlns=\"http://www.w3.org/2000/svg\" height=\"24px\"viewBox=\"0 0 24 24\"\n",
              "       width=\"24px\">\n",
              "    <path d=\"M0 0h24v24H0V0z\" fill=\"none\"/>\n",
              "    <path d=\"M18.56 5.44l.94 2.06.94-2.06 2.06-.94-2.06-.94-.94-2.06-.94 2.06-2.06.94zm-11 1L8.5 8.5l.94-2.06 2.06-.94-2.06-.94L8.5 2.5l-.94 2.06-2.06.94zm10 10l.94 2.06.94-2.06 2.06-.94-2.06-.94-.94-2.06-.94 2.06-2.06.94z\"/><path d=\"M17.41 7.96l-1.37-1.37c-.4-.4-.92-.59-1.43-.59-.52 0-1.04.2-1.43.59L10.3 9.45l-7.72 7.72c-.78.78-.78 2.05 0 2.83L4 21.41c.39.39.9.59 1.41.59.51 0 1.02-.2 1.41-.59l7.78-7.78 2.81-2.81c.8-.78.8-2.07 0-2.86zM5.41 20L4 18.59l7.72-7.72 1.47 1.35L5.41 20z\"/>\n",
              "  </svg>\n",
              "      </button>\n",
              "      \n",
              "  <style>\n",
              "    .colab-df-container {\n",
              "      display:flex;\n",
              "      flex-wrap:wrap;\n",
              "      gap: 12px;\n",
              "    }\n",
              "\n",
              "    .colab-df-convert {\n",
              "      background-color: #E8F0FE;\n",
              "      border: none;\n",
              "      border-radius: 50%;\n",
              "      cursor: pointer;\n",
              "      display: none;\n",
              "      fill: #1967D2;\n",
              "      height: 32px;\n",
              "      padding: 0 0 0 0;\n",
              "      width: 32px;\n",
              "    }\n",
              "\n",
              "    .colab-df-convert:hover {\n",
              "      background-color: #E2EBFA;\n",
              "      box-shadow: 0px 1px 2px rgba(60, 64, 67, 0.3), 0px 1px 3px 1px rgba(60, 64, 67, 0.15);\n",
              "      fill: #174EA6;\n",
              "    }\n",
              "\n",
              "    [theme=dark] .colab-df-convert {\n",
              "      background-color: #3B4455;\n",
              "      fill: #D2E3FC;\n",
              "    }\n",
              "\n",
              "    [theme=dark] .colab-df-convert:hover {\n",
              "      background-color: #434B5C;\n",
              "      box-shadow: 0px 1px 3px 1px rgba(0, 0, 0, 0.15);\n",
              "      filter: drop-shadow(0px 1px 2px rgba(0, 0, 0, 0.3));\n",
              "      fill: #FFFFFF;\n",
              "    }\n",
              "  </style>\n",
              "\n",
              "      <script>\n",
              "        const buttonEl =\n",
              "          document.querySelector('#df-7a008d5b-e77d-40ae-9abe-8de96c20e5e4 button.colab-df-convert');\n",
              "        buttonEl.style.display =\n",
              "          google.colab.kernel.accessAllowed ? 'block' : 'none';\n",
              "\n",
              "        async function convertToInteractive(key) {\n",
              "          const element = document.querySelector('#df-7a008d5b-e77d-40ae-9abe-8de96c20e5e4');\n",
              "          const dataTable =\n",
              "            await google.colab.kernel.invokeFunction('convertToInteractive',\n",
              "                                                     [key], {});\n",
              "          if (!dataTable) return;\n",
              "\n",
              "          const docLinkHtml = 'Like what you see? Visit the ' +\n",
              "            '<a target=\"_blank\" href=https://colab.research.google.com/notebooks/data_table.ipynb>data table notebook</a>'\n",
              "            + ' to learn more about interactive tables.';\n",
              "          element.innerHTML = '';\n",
              "          dataTable['output_type'] = 'display_data';\n",
              "          await google.colab.output.renderOutput(dataTable, element);\n",
              "          const docLink = document.createElement('div');\n",
              "          docLink.innerHTML = docLinkHtml;\n",
              "          element.appendChild(docLink);\n",
              "        }\n",
              "      </script>\n",
              "    </div>\n",
              "  </div>\n",
              "  "
            ]
          },
          "metadata": {},
          "execution_count": 18
        }
      ]
    },
    {
      "cell_type": "markdown",
      "source": [
        "**Analyzing the type of Attack**"
      ],
      "metadata": {
        "id": "0FEJ6erOVQSN"
      }
    },
    {
      "cell_type": "code",
      "source": [
        "print(data['Attacktype'].unique())"
      ],
      "metadata": {
        "id": "mLmLFSW3VTFA",
        "outputId": "7c6c0f15-1c2f-44c2-a87a-f0826d787a2c",
        "colab": {
          "base_uri": "https://localhost:8080/"
        }
      },
      "execution_count": null,
      "outputs": [
        {
          "output_type": "stream",
          "name": "stdout",
          "text": [
            "['Assassination' 'Hostage Taking (Kidnapping)' 'Bombing/Explosion'\n",
            " 'Facility/Infrastructure Attack' 'Armed Assault' 'Hijacking' 'Unknown'\n",
            " 'Unarmed Assault' 'Hostage Taking (Barricade Incident)']\n"
          ]
        }
      ]
    },
    {
      "cell_type": "code",
      "source": [
        "data['Attacktype'].value_counts()"
      ],
      "metadata": {
        "id": "SPBXEJ32VWb0",
        "outputId": "94a465b0-714b-4741-b064-48ca193b53a6",
        "colab": {
          "base_uri": "https://localhost:8080/"
        }
      },
      "execution_count": null,
      "outputs": [
        {
          "output_type": "execute_result",
          "data": {
            "text/plain": [
              "Bombing/Explosion                      1293\n",
              "Assassination                           711\n",
              "Facility/Infrastructure Attack          370\n",
              "Armed Assault                           293\n",
              "Hostage Taking (Kidnapping)             157\n",
              "Hijacking                                41\n",
              "Hostage Taking (Barricade Incident)      22\n",
              "Unknown                                  12\n",
              "Unarmed Assault                          10\n",
              "Name: Attacktype, dtype: int64"
            ]
          },
          "metadata": {},
          "execution_count": 20
        }
      ]
    },
    {
      "cell_type": "code",
      "source": [
        "atk_filtered=data['Attacktype'].apply(lambda x: x if x in['Bombing/Explosion', 'Armed Assault', 'Assassination', 'Hostage Taking (kidnapping)', 'Facility/Infrastructure Attack'] else 'Others')\n",
        "attack_type = atk_filtered.value_counts().tolist()"
      ],
      "metadata": {
        "id": "nBjXLPHnVXq8"
      },
      "execution_count": null,
      "outputs": []
    },
    {
      "cell_type": "code",
      "source": [
        "atk_filtered.unique()"
      ],
      "metadata": {
        "id": "0TnEZassVazx",
        "outputId": "26183ef8-71e2-4915-bf76-90f19767f5b9",
        "colab": {
          "base_uri": "https://localhost:8080/"
        }
      },
      "execution_count": null,
      "outputs": [
        {
          "output_type": "execute_result",
          "data": {
            "text/plain": [
              "array(['Assassination', 'Others', 'Bombing/Explosion',\n",
              "       'Facility/Infrastructure Attack', 'Armed Assault'], dtype=object)"
            ]
          },
          "metadata": {},
          "execution_count": 22
        }
      ]
    },
    {
      "cell_type": "code",
      "source": [
        "atk_filtered.value_counts()"
      ],
      "metadata": {
        "id": "vIjUXaRbVbiw",
        "outputId": "eeaf7002-8bb5-4389-c6b6-a8975eb370ad",
        "colab": {
          "base_uri": "https://localhost:8080/"
        }
      },
      "execution_count": null,
      "outputs": [
        {
          "output_type": "execute_result",
          "data": {
            "text/plain": [
              "Bombing/Explosion                 1293\n",
              "Assassination                      711\n",
              "Facility/Infrastructure Attack     370\n",
              "Armed Assault                      293\n",
              "Others                             242\n",
              "Name: Attacktype, dtype: int64"
            ]
          },
          "metadata": {},
          "execution_count": 23
        }
      ]
    },
    {
      "cell_type": "code",
      "source": [
        "attack_type"
      ],
      "metadata": {
        "id": "z9iOd0KjVfWT",
        "outputId": "7040f024-17f9-4633-9fb4-8e2301c116fd",
        "colab": {
          "base_uri": "https://localhost:8080/"
        }
      },
      "execution_count": null,
      "outputs": [
        {
          "output_type": "execute_result",
          "data": {
            "text/plain": [
              "[1293, 711, 370, 293, 242]"
            ]
          },
          "metadata": {},
          "execution_count": 24
        }
      ]
    },
    {
      "cell_type": "markdown",
      "source": [
        "**Analyzing the Weapon Type**"
      ],
      "metadata": {
        "id": "FT04hKS8VgQG"
      }
    },
    {
      "cell_type": "code",
      "source": [
        "print(data['Weaptype'].unique())"
      ],
      "metadata": {
        "id": "jLbtK-0GVi36",
        "outputId": "bf2a96a3-5e50-430b-ed64-80f545347492",
        "colab": {
          "base_uri": "https://localhost:8080/"
        }
      },
      "execution_count": null,
      "outputs": [
        {
          "output_type": "stream",
          "name": "stdout",
          "text": [
            "['Unknown' 'Explosives' 'Incendiary' 'Firearms' 'Chemical' 'Melee'\n",
            " 'Sabotage Equipment'\n",
            " 'Vehicle (not to include vehicle-borne explosives, i.e., car or truck bombs)'\n",
            " 'Fake Weapons' 'Radiological']\n"
          ]
        }
      ]
    },
    {
      "cell_type": "code",
      "source": [
        "data['Weaptype'].value_counts()"
      ],
      "metadata": {
        "id": "5t7dKWpWVnBA",
        "outputId": "f055f8d6-1e78-49bf-d73b-7e5602ddeb9d",
        "colab": {
          "base_uri": "https://localhost:8080/"
        }
      },
      "execution_count": null,
      "outputs": [
        {
          "output_type": "execute_result",
          "data": {
            "text/plain": [
              "Explosives                                                                     1415\n",
              "Firearms                                                                        870\n",
              "Incendiary                                                                      399\n",
              "Unknown                                                                         186\n",
              "Melee                                                                            22\n",
              "Chemical                                                                         12\n",
              "Fake Weapons                                                                      2\n",
              "Sabotage Equipment                                                                1\n",
              "Vehicle (not to include vehicle-borne explosives, i.e., car or truck bombs)       1\n",
              "Radiological                                                                      1\n",
              "Name: Weaptype, dtype: int64"
            ]
          },
          "metadata": {},
          "execution_count": 26
        }
      ]
    },
    {
      "cell_type": "code",
      "source": [
        "weaptype_filtered = data['Weaptype'].apply(lambda x: x if x in ['Explosives', 'Firearms', 'Unknown', 'Incendiary'] else 'Others')\n",
        "weaptype=weaptype_filtered.value_counts().tolist()"
      ],
      "metadata": {
        "id": "_691gqePVn6M"
      },
      "execution_count": null,
      "outputs": []
    },
    {
      "cell_type": "code",
      "source": [
        "weaptype_filtered.unique()"
      ],
      "metadata": {
        "id": "GxXBygwjVp4w",
        "outputId": "f20c4368-15c7-433f-98fd-3cb3015a0eb4",
        "colab": {
          "base_uri": "https://localhost:8080/"
        }
      },
      "execution_count": null,
      "outputs": [
        {
          "output_type": "execute_result",
          "data": {
            "text/plain": [
              "array(['Unknown', 'Explosives', 'Incendiary', 'Firearms', 'Others'],\n",
              "      dtype=object)"
            ]
          },
          "metadata": {},
          "execution_count": 28
        }
      ]
    },
    {
      "cell_type": "code",
      "source": [
        "weaptype_filtered.value_counts()"
      ],
      "metadata": {
        "id": "wsq1sOf9Vr9Z",
        "outputId": "df11c15e-dff9-4305-adbb-8d9ba8b86712",
        "colab": {
          "base_uri": "https://localhost:8080/"
        }
      },
      "execution_count": null,
      "outputs": [
        {
          "output_type": "execute_result",
          "data": {
            "text/plain": [
              "Explosives    1415\n",
              "Firearms       870\n",
              "Incendiary     399\n",
              "Unknown        186\n",
              "Others          39\n",
              "Name: Weaptype, dtype: int64"
            ]
          },
          "metadata": {},
          "execution_count": 29
        }
      ]
    },
    {
      "cell_type": "code",
      "source": [
        "weaptype"
      ],
      "metadata": {
        "id": "2FteQDJdVu8c",
        "outputId": "9623483d-4091-478f-9b5e-d365e05dc8cc",
        "colab": {
          "base_uri": "https://localhost:8080/"
        }
      },
      "execution_count": null,
      "outputs": [
        {
          "output_type": "execute_result",
          "data": {
            "text/plain": [
              "[1415, 870, 399, 186, 39]"
            ]
          },
          "metadata": {},
          "execution_count": 30
        }
      ]
    },
    {
      "cell_type": "code",
      "source": [
        "weap_labels=['Explosives', 'Firearms', 'Unknown','Incendiary', 'Others']\n",
        "colors=sns.color_palette('pastel')[0:6]\n",
        "\n",
        "#create pie chart\n",
        "plt.figure(figsize=(16, 8))\n",
        "plt.title('Weapon Types')\n",
        "plt.pie(weaptype, labels= weap_labels, colors = colors, autopct='%.0f%%')\n",
        "plt.show()"
      ],
      "metadata": {
        "id": "mACRDrutVv83",
        "outputId": "db2abcb4-e8bb-4567-91bd-0b2efb173a85",
        "colab": {
          "base_uri": "https://localhost:8080/",
          "height": 482
        }
      },
      "execution_count": null,
      "outputs": [
        {
          "output_type": "display_data",
          "data": {
            "text/plain": [
              "<Figure size 1152x576 with 1 Axes>"
            ],
            "image/png": "[encoded data removed]"
          },
          "metadata": {}
        }
      ]
    },
    {
      "cell_type": "markdown",
      "source": [
        "**Most Attacked Countries**"
      ],
      "metadata": {
        "id": "89dVNYqDVzJO"
      }
    },
    {
      "cell_type": "code",
      "source": [
        "data.Country.value_counts()[:15]"
      ],
      "metadata": {
        "id": "P1j31tlMV3Xc",
        "outputId": "c3b8da94-1e01-42a6-a736-418c1509bfc7",
        "colab": {
          "base_uri": "https://localhost:8080/"
        }
      },
      "execution_count": null,
      "outputs": [
        {
          "output_type": "execute_result",
          "data": {
            "text/plain": [
              "United States         971\n",
              "United Kingdom        811\n",
              "Argentina             194\n",
              "West Germany (FRG)    118\n",
              "Spain                 108\n",
              "France                 64\n",
              "Turkey                 58\n",
              "Iran                   51\n",
              "Italy                  49\n",
              "Uruguay                48\n",
              "Lebanon                33\n",
              "Israel                 30\n",
              "Mexico                 26\n",
              "Greece                 23\n",
              "Jordan                 22\n",
              "Name: Country, dtype: int64"
            ]
          },
          "metadata": {},
          "execution_count": 32
        }
      ]
    },
    {
      "cell_type": "code",
      "source": [
        "plt.subplots(figsize=(10, 6))\n",
        "sns.barplot(data['Country'].value_counts()[:15].index,data['Country'].value_counts()[:15].values, palette='Blues_d')\n",
        "plt.title('Most Attacked Countries')\n",
        "plt.xlabel('Countries')\n",
        "plt.ylabel('Count')\n",
        "plt.xticks(rotation=90)\n",
        "plt.show()"
      ],
      "metadata": {
        "id": "EemnfioxV6_X",
        "outputId": "37bf5b60-5564-41a0-eb42-5e2869014862",
        "colab": {
          "base_uri": "https://localhost:8080/",
          "height": 499
        }
      },
      "execution_count": null,
      "outputs": [
        {
          "output_type": "display_data",
          "data": {
            "text/plain": [
              "<Figure size 720x432 with 1 Axes>"
            ],
            "image/png": "[encoded data removed]"
          },
          "metadata": {
            "needs_background": "light"
          }
        }
      ]
    },
    {
      "cell_type": "markdown",
      "source": [
        "**Most Targeted Countries**"
      ],
      "metadata": {
        "id": "vYqj5w8iV81Q"
      }
    },
    {
      "cell_type": "code",
      "source": [
        "data.Natlty1.value_counts()[:15]"
      ],
      "metadata": {
        "id": "67-LB5FOV8TQ",
        "outputId": "80b98d01-345f-4306-8f0a-076409caec5b",
        "colab": {
          "base_uri": "https://localhost:8080/"
        }
      },
      "execution_count": null,
      "outputs": [
        {
          "output_type": "execute_result",
          "data": {
            "text/plain": [
              "United States       1221\n",
              "Northern Ireland     520\n",
              "Great Britain        296\n",
              "Israel               119\n",
              "Spain                109\n",
              "Germany              107\n",
              "Argentina             96\n",
              "France                35\n",
              "Iran                  34\n",
              "Uruguay               25\n",
              "Turkey                22\n",
              "Italy                 20\n",
              "Jordan                19\n",
              "Soviet Union          18\n",
              "Puerto Rico           17\n",
              "Name: Natlty1, dtype: int64"
            ]
          },
          "metadata": {},
          "execution_count": 34
        }
      ]
    },
    {
      "cell_type": "code",
      "source": [
        "plt.subplots(figsize=(10, 6))\n",
        "sns.barplot(data['Natlty1'].value_counts()[:15].index,data['Natlty1'].value_counts()[:15].values, palette='Blues_d')\n",
        "plt.title('Most Targeted Countries')\n",
        "plt.xlabel('Countries')\n",
        "plt.ylabel('Count')\n",
        "plt.xticks(rotation=90)\n",
        "plt.show()"
      ],
      "metadata": {
        "id": "pyc5rmiBWEcg",
        "outputId": "344a1fe6-6647-453b-8537-1531472d6e27",
        "colab": {
          "base_uri": "https://localhost:8080/",
          "height": 476
        }
      },
      "execution_count": null,
      "outputs": [
        {
          "output_type": "display_data",
          "data": {
            "text/plain": [
              "<Figure size 720x432 with 1 Axes>"
            ],
            "image/png": "[encoded data removed]"
          },
          "metadata": {
            "needs_background": "light"
          }
        }
      ]
    },
    {
      "cell_type": "markdown",
      "source": [
        "**Analyzing the people killed in Terror Attack**"
      ],
      "metadata": {
        "id": "6hUC1F8DWF2t"
      }
    },
    {
      "cell_type": "code",
      "source": [
        "#total number of people killed\n",
        "killData=data.loc[:,'Nkill']\n",
        "print('Number of people killed by terror attack:', int(sum(killData.dropna()))) #drop the NaN Values"
      ],
      "metadata": {
        "id": "1ZQ3cfTFWIbB",
        "outputId": "9ed4ab38-2cb0-4cdf-874f-abee6380ab9b",
        "colab": {
          "base_uri": "https://localhost:8080/"
        }
      },
      "execution_count": null,
      "outputs": [
        {
          "output_type": "stream",
          "name": "stdout",
          "text": [
            "Number of people killed by terror attack: 1927\n"
          ]
        }
      ]
    },
    {
      "cell_type": "markdown",
      "source": [
        "**Peopke killed with respect to Attack Typ**e"
      ],
      "metadata": {
        "id": "3w8WbYFcWNi7"
      }
    },
    {
      "cell_type": "code",
      "source": [
        "attackData= data.loc[:, 'Attacktype']\n",
        "typeKillData= pd.concat([attackData, killData], axis=1)"
      ],
      "metadata": {
        "id": "C0IJ140DWPQ7"
      },
      "execution_count": null,
      "outputs": []
    },
    {
      "cell_type": "code",
      "source": [
        "typeKillData.head()"
      ],
      "metadata": {
        "id": "KD6Q-ZIMWS6i",
        "outputId": "a38628bd-d47e-4f55-bb33-effba9d2772b",
        "colab": {
          "base_uri": "https://localhost:8080/",
          "height": 206
        }
      },
      "execution_count": null,
      "outputs": [
        {
          "output_type": "execute_result",
          "data": {
            "text/plain": [
              "                       Attacktype  Nkill\n",
              "0                   Assassination      1\n",
              "1     Hostage Taking (Kidnapping)      0\n",
              "2                   Assassination      1\n",
              "3               Bombing/Explosion      0\n",
              "4  Facility/Infrastructure Attack      0"
            ],
            "text/html": [
              "\n",
              "  <div id=\"df-9bc1422f-25ec-4baf-ae0a-6607044c8221\">\n",
              "    <div class=\"colab-df-container\">\n",
              "      <div>\n",
              "<style scoped>\n",
              "    .dataframe tbody tr th:only-of-type {\n",
              "        vertical-align: middle;\n",
              "    }\n",
              "\n",
              "    .dataframe tbody tr th {\n",
              "        vertical-align: top;\n",
              "    }\n",
              "\n",
              "    .dataframe thead th {\n",
              "        text-align: right;\n",
              "    }\n",
              "</style>\n",
              "<table border=\"1\" class=\"dataframe\">\n",
              "  <thead>\n",
              "    <tr style=\"text-align: right;\">\n",
              "      <th></th>\n",
              "      <th>Attacktype</th>\n",
              "      <th>Nkill</th>\n",
              "    </tr>\n",
              "  </thead>\n",
              "  <tbody>\n",
              "    <tr>\n",
              "      <th>0</th>\n",
              "      <td>Assassination</td>\n",
              "      <td>1</td>\n",
              "    </tr>\n",
              "    <tr>\n",
              "      <th>1</th>\n",
              "      <td>Hostage Taking (Kidnapping)</td>\n",
              "      <td>0</td>\n",
              "    </tr>\n",
              "    <tr>\n",
              "      <th>2</th>\n",
              "      <td>Assassination</td>\n",
              "      <td>1</td>\n",
              "    </tr>\n",
              "    <tr>\n",
              "      <th>3</th>\n",
              "      <td>Bombing/Explosion</td>\n",
              "      <td>0</td>\n",
              "    </tr>\n",
              "    <tr>\n",
              "      <th>4</th>\n",
              "      <td>Facility/Infrastructure Attack</td>\n",
              "      <td>0</td>\n",
              "    </tr>\n",
              "  </tbody>\n",
              "</table>\n",
              "</div>\n",
              "      <button class=\"colab-df-convert\" onclick=\"convertToInteractive('df-9bc1422f-25ec-4baf-ae0a-6607044c8221')\"\n",
              "              title=\"Convert this dataframe to an interactive table.\"\n",
              "              style=\"display:none;\">\n",
              "        \n",
              "  <svg xmlns=\"http://www.w3.org/2000/svg\" height=\"24px\"viewBox=\"0 0 24 24\"\n",
              "       width=\"24px\">\n",
              "    <path d=\"M0 0h24v24H0V0z\" fill=\"none\"/>\n",
              "    <path d=\"M18.56 5.44l.94 2.06.94-2.06 2.06-.94-2.06-.94-.94-2.06-.94 2.06-2.06.94zm-11 1L8.5 8.5l.94-2.06 2.06-.94-2.06-.94L8.5 2.5l-.94 2.06-2.06.94zm10 10l.94 2.06.94-2.06 2.06-.94-2.06-.94-.94-2.06-.94 2.06-2.06.94z\"/><path d=\"M17.41 7.96l-1.37-1.37c-.4-.4-.92-.59-1.43-.59-.52 0-1.04.2-1.43.59L10.3 9.45l-7.72 7.72c-.78.78-.78 2.05 0 2.83L4 21.41c.39.39.9.59 1.41.59.51 0 1.02-.2 1.41-.59l7.78-7.78 2.81-2.81c.8-.78.8-2.07 0-2.86zM5.41 20L4 18.59l7.72-7.72 1.47 1.35L5.41 20z\"/>\n",
              "  </svg>\n",
              "      </button>\n",
              "      \n",
              "  <style>\n",
              "    .colab-df-container {\n",
              "      display:flex;\n",
              "      flex-wrap:wrap;\n",
              "      gap: 12px;\n",
              "    }\n",
              "\n",
              "    .colab-df-convert {\n",
              "      background-color: #E8F0FE;\n",
              "      border: none;\n",
              "      border-radius: 50%;\n",
              "      cursor: pointer;\n",
              "      display: none;\n",
              "      fill: #1967D2;\n",
              "      height: 32px;\n",
              "      padding: 0 0 0 0;\n",
              "      width: 32px;\n",
              "    }\n",
              "\n",
              "    .colab-df-convert:hover {\n",
              "      background-color: #E2EBFA;\n",
              "      box-shadow: 0px 1px 2px rgba(60, 64, 67, 0.3), 0px 1px 3px 1px rgba(60, 64, 67, 0.15);\n",
              "      fill: #174EA6;\n",
              "    }\n",
              "\n",
              "    [theme=dark] .colab-df-convert {\n",
              "      background-color: #3B4455;\n",
              "      fill: #D2E3FC;\n",
              "    }\n",
              "\n",
              "    [theme=dark] .colab-df-convert:hover {\n",
              "      background-color: #434B5C;\n",
              "      box-shadow: 0px 1px 3px 1px rgba(0, 0, 0, 0.15);\n",
              "      filter: drop-shadow(0px 1px 2px rgba(0, 0, 0, 0.3));\n",
              "      fill: #FFFFFF;\n",
              "    }\n",
              "  </style>\n",
              "\n",
              "      <script>\n",
              "        const buttonEl =\n",
              "          document.querySelector('#df-9bc1422f-25ec-4baf-ae0a-6607044c8221 button.colab-df-convert');\n",
              "        buttonEl.style.display =\n",
              "          google.colab.kernel.accessAllowed ? 'block' : 'none';\n",
              "\n",
              "        async function convertToInteractive(key) {\n",
              "          const element = document.querySelector('#df-9bc1422f-25ec-4baf-ae0a-6607044c8221');\n",
              "          const dataTable =\n",
              "            await google.colab.kernel.invokeFunction('convertToInteractive',\n",
              "                                                     [key], {});\n",
              "          if (!dataTable) return;\n",
              "\n",
              "          const docLinkHtml = 'Like what you see? Visit the ' +\n",
              "            '<a target=\"_blank\" href=https://colab.research.google.com/notebooks/data_table.ipynb>data table notebook</a>'\n",
              "            + ' to learn more about interactive tables.';\n",
              "          element.innerHTML = '';\n",
              "          dataTable['output_type'] = 'display_data';\n",
              "          await google.colab.output.renderOutput(dataTable, element);\n",
              "          const docLink = document.createElement('div');\n",
              "          docLink.innerHTML = docLinkHtml;\n",
              "          element.appendChild(docLink);\n",
              "        }\n",
              "      </script>\n",
              "    </div>\n",
              "  </div>\n",
              "  "
            ]
          },
          "metadata": {},
          "execution_count": 38
        }
      ]
    },
    {
      "cell_type": "markdown",
      "source": [
        "**Number of people killed in different type of Attack**"
      ],
      "metadata": {
        "id": "-a2-rODgWT9M"
      }
    },
    {
      "cell_type": "code",
      "source": [
        "typeKillFormatData=typeKillData.pivot_table(columns='Attacktype', values='Nkill', aggfunc='sum')\n",
        "typeKillFormatData"
      ],
      "metadata": {
        "id": "Na2Fi2X4WXLs",
        "outputId": "c3d0d207-11f8-4853-cb0b-f372808dbfb2",
        "colab": {
          "base_uri": "https://localhost:8080/",
          "height": 142
        }
      },
      "execution_count": null,
      "outputs": [
        {
          "output_type": "execute_result",
          "data": {
            "text/plain": [
              "Attacktype  Armed Assault  Assassination  Bombing/Explosion  \\\n",
              "Nkill                 191            661                865   \n",
              "\n",
              "Attacktype  Facility/Infrastructure Attack  Hijacking  \\\n",
              "Nkill                                   11         41   \n",
              "\n",
              "Attacktype  Hostage Taking (Barricade Incident)  Hostage Taking (Kidnapping)  \\\n",
              "Nkill                                        91                           50   \n",
              "\n",
              "Attacktype  Unarmed Assault  Unknown  \n",
              "Nkill                     1       16  "
            ],
            "text/html": [
              "\n",
              "  <div id=\"df-374b9e21-a316-4a74-aacb-e5ea1cf9aab6\">\n",
              "    <div class=\"colab-df-container\">\n",
              "      <div>\n",
              "<style scoped>\n",
              "    .dataframe tbody tr th:only-of-type {\n",
              "        vertical-align: middle;\n",
              "    }\n",
              "\n",
              "    .dataframe tbody tr th {\n",
              "        vertical-align: top;\n",
              "    }\n",
              "\n",
              "    .dataframe thead th {\n",
              "        text-align: right;\n",
              "    }\n",
              "</style>\n",
              "<table border=\"1\" class=\"dataframe\">\n",
              "  <thead>\n",
              "    <tr style=\"text-align: right;\">\n",
              "      <th>Attacktype</th>\n",
              "      <th>Armed Assault</th>\n",
              "      <th>Assassination</th>\n",
              "      <th>Bombing/Explosion</th>\n",
              "      <th>Facility/Infrastructure Attack</th>\n",
              "      <th>Hijacking</th>\n",
              "      <th>Hostage Taking (Barricade Incident)</th>\n",
              "      <th>Hostage Taking (Kidnapping)</th>\n",
              "      <th>Unarmed Assault</th>\n",
              "      <th>Unknown</th>\n",
              "    </tr>\n",
              "  </thead>\n",
              "  <tbody>\n",
              "    <tr>\n",
              "      <th>Nkill</th>\n",
              "      <td>191</td>\n",
              "      <td>661</td>\n",
              "      <td>865</td>\n",
              "      <td>11</td>\n",
              "      <td>41</td>\n",
              "      <td>91</td>\n",
              "      <td>50</td>\n",
              "      <td>1</td>\n",
              "      <td>16</td>\n",
              "    </tr>\n",
              "  </tbody>\n",
              "</table>\n",
              "</div>\n",
              "      <button class=\"colab-df-convert\" onclick=\"convertToInteractive('df-374b9e21-a316-4a74-aacb-e5ea1cf9aab6')\"\n",
              "              title=\"Convert this dataframe to an interactive table.\"\n",
              "              style=\"display:none;\">\n",
              "        \n",
              "  <svg xmlns=\"http://www.w3.org/2000/svg\" height=\"24px\"viewBox=\"0 0 24 24\"\n",
              "       width=\"24px\">\n",
              "    <path d=\"M0 0h24v24H0V0z\" fill=\"none\"/>\n",
              "    <path d=\"M18.56 5.44l.94 2.06.94-2.06 2.06-.94-2.06-.94-.94-2.06-.94 2.06-2.06.94zm-11 1L8.5 8.5l.94-2.06 2.06-.94-2.06-.94L8.5 2.5l-.94 2.06-2.06.94zm10 10l.94 2.06.94-2.06 2.06-.94-2.06-.94-.94-2.06-.94 2.06-2.06.94z\"/><path d=\"M17.41 7.96l-1.37-1.37c-.4-.4-.92-.59-1.43-.59-.52 0-1.04.2-1.43.59L10.3 9.45l-7.72 7.72c-.78.78-.78 2.05 0 2.83L4 21.41c.39.39.9.59 1.41.59.51 0 1.02-.2 1.41-.59l7.78-7.78 2.81-2.81c.8-.78.8-2.07 0-2.86zM5.41 20L4 18.59l7.72-7.72 1.47 1.35L5.41 20z\"/>\n",
              "  </svg>\n",
              "      </button>\n",
              "      \n",
              "  <style>\n",
              "    .colab-df-container {\n",
              "      display:flex;\n",
              "      flex-wrap:wrap;\n",
              "      gap: 12px;\n",
              "    }\n",
              "\n",
              "    .colab-df-convert {\n",
              "      background-color: #E8F0FE;\n",
              "      border: none;\n",
              "      border-radius: 50%;\n",
              "      cursor: pointer;\n",
              "      display: none;\n",
              "      fill: #1967D2;\n",
              "      height: 32px;\n",
              "      padding: 0 0 0 0;\n",
              "      width: 32px;\n",
              "    }\n",
              "\n",
              "    .colab-df-convert:hover {\n",
              "      background-color: #E2EBFA;\n",
              "      box-shadow: 0px 1px 2px rgba(60, 64, 67, 0.3), 0px 1px 3px 1px rgba(60, 64, 67, 0.15);\n",
              "      fill: #174EA6;\n",
              "    }\n",
              "\n",
              "    [theme=dark] .colab-df-convert {\n",
              "      background-color: #3B4455;\n",
              "      fill: #D2E3FC;\n",
              "    }\n",
              "\n",
              "    [theme=dark] .colab-df-convert:hover {\n",
              "      background-color: #434B5C;\n",
              "      box-shadow: 0px 1px 3px 1px rgba(0, 0, 0, 0.15);\n",
              "      filter: drop-shadow(0px 1px 2px rgba(0, 0, 0, 0.3));\n",
              "      fill: #FFFFFF;\n",
              "    }\n",
              "  </style>\n",
              "\n",
              "      <script>\n",
              "        const buttonEl =\n",
              "          document.querySelector('#df-374b9e21-a316-4a74-aacb-e5ea1cf9aab6 button.colab-df-convert');\n",
              "        buttonEl.style.display =\n",
              "          google.colab.kernel.accessAllowed ? 'block' : 'none';\n",
              "\n",
              "        async function convertToInteractive(key) {\n",
              "          const element = document.querySelector('#df-374b9e21-a316-4a74-aacb-e5ea1cf9aab6');\n",
              "          const dataTable =\n",
              "            await google.colab.kernel.invokeFunction('convertToInteractive',\n",
              "                                                     [key], {});\n",
              "          if (!dataTable) return;\n",
              "\n",
              "          const docLinkHtml = 'Like what you see? Visit the ' +\n",
              "            '<a target=\"_blank\" href=https://colab.research.google.com/notebooks/data_table.ipynb>data table notebook</a>'\n",
              "            + ' to learn more about interactive tables.';\n",
              "          element.innerHTML = '';\n",
              "          dataTable['output_type'] = 'display_data';\n",
              "          await google.colab.output.renderOutput(dataTable, element);\n",
              "          const docLink = document.createElement('div');\n",
              "          docLink.innerHTML = docLinkHtml;\n",
              "          element.appendChild(docLink);\n",
              "        }\n",
              "      </script>\n",
              "    </div>\n",
              "  </div>\n",
              "  "
            ]
          },
          "metadata": {},
          "execution_count": 39
        }
      ]
    },
    {
      "cell_type": "code",
      "source": [
        "labels= typeKillFormatData.columns.tolist() #convert line to list\n",
        "transpose= typeKillFormatData.T #Transpose\n",
        "values=transpose.values.tolist()\n",
        "fig, ax= plt.subplots(figsize=(18,10), subplot_kw=dict(aspect=\"equal\"))\n",
        "plt.pie(values, startangle=90, autopct='%.2f%%')\n",
        "plt.legend(labels, loc='upper right', bbox_to_anchor = (1.3, 0.9), fontsize=10) #location legend\n",
        "plt.show()"
      ],
      "metadata": {
        "id": "Ll0wb_x_Wa6_",
        "outputId": "49f9c37f-5f4f-4ac2-f101-38eed9f1ed23",
        "colab": {
          "base_uri": "https://localhost:8080/",
          "height": 575
        }
      },
      "execution_count": null,
      "outputs": [
        {
          "output_type": "display_data",
          "data": {
            "text/plain": [
              "<Figure size 1296x720 with 1 Axes>"
            ],
            "image/png": "[encoded data removed]"
          },
          "metadata": {}
        }
      ]
    },
    {
      "cell_type": "markdown",
      "source": [
        "**People killed with respect to Countries**"
      ],
      "metadata": {
        "id": "8-lf2baDWcSM"
      }
    },
    {
      "cell_type": "code",
      "source": [
        "countryData=data.loc[:,'Country']\n",
        "countryKillData=pd.concat([countryData, killData], axis=1)"
      ],
      "metadata": {
        "id": "94hY16ygWfTt"
      },
      "execution_count": null,
      "outputs": []
    },
    {
      "cell_type": "code",
      "source": [
        "countryKillFormatData= countryKillData.pivot_table(columns='Country', values='Nkill', aggfunc='sum')\n",
        "countryKillFormatData"
      ],
      "metadata": {
        "id": "k24xni5dWiu6",
        "outputId": "b7ac489e-d3fc-4470-f9b1-3c86d0742c68",
        "colab": {
          "base_uri": "https://localhost:8080/",
          "height": 243
        }
      },
      "execution_count": null,
      "outputs": [
        {
          "output_type": "execute_result",
          "data": {
            "text/plain": [
              "Country  Afghanistan  Algeria  Andorra  Argentina  Australia  Austria  \\\n",
              "Nkill              0        0        0         54          1        4   \n",
              "\n",
              "Country  Belgium  Bolivia  Botswana  Brazil  ...  United Arab Emirates  \\\n",
              "Nkill          0        0         1       2  ...                     1   \n",
              "\n",
              "Country  United Kingdom  United States  Uruguay  Venezuela  \\\n",
              "Nkill               981            131        4          0   \n",
              "\n",
              "Country  West Bank and Gaza Strip  West Germany (FRG)  Yugoslavia  Zaire  \\\n",
              "Nkill                           1                  33           1      0   \n",
              "\n",
              "Country  Zambia  \n",
              "Nkill         4  \n",
              "\n",
              "[1 rows x 82 columns]"
            ],
            "text/html": [
              "\n",
              "  <div id=\"df-58ffd7bb-fbdc-46f3-a01a-3eacaed1ee73\">\n",
              "    <div class=\"colab-df-container\">\n",
              "      <div>\n",
              "<style scoped>\n",
              "    .dataframe tbody tr th:only-of-type {\n",
              "        vertical-align: middle;\n",
              "    }\n",
              "\n",
              "    .dataframe tbody tr th {\n",
              "        vertical-align: top;\n",
              "    }\n",
              "\n",
              "    .dataframe thead th {\n",
              "        text-align: right;\n",
              "    }\n",
              "</style>\n",
              "<table border=\"1\" class=\"dataframe\">\n",
              "  <thead>\n",
              "    <tr style=\"text-align: right;\">\n",
              "      <th>Country</th>\n",
              "      <th>Afghanistan</th>\n",
              "      <th>Algeria</th>\n",
              "      <th>Andorra</th>\n",
              "      <th>Argentina</th>\n",
              "      <th>Australia</th>\n",
              "      <th>Austria</th>\n",
              "      <th>Belgium</th>\n",
              "      <th>Bolivia</th>\n",
              "      <th>Botswana</th>\n",
              "      <th>Brazil</th>\n",
              "      <th>...</th>\n",
              "      <th>United Arab Emirates</th>\n",
              "      <th>United Kingdom</th>\n",
              "      <th>United States</th>\n",
              "      <th>Uruguay</th>\n",
              "      <th>Venezuela</th>\n",
              "      <th>West Bank and Gaza Strip</th>\n",
              "      <th>West Germany (FRG)</th>\n",
              "      <th>Yugoslavia</th>\n",
              "      <th>Zaire</th>\n",
              "      <th>Zambia</th>\n",
              "    </tr>\n",
              "  </thead>\n",
              "  <tbody>\n",
              "    <tr>\n",
              "      <th>Nkill</th>\n",
              "      <td>0</td>\n",
              "      <td>0</td>\n",
              "      <td>0</td>\n",
              "      <td>54</td>\n",
              "      <td>1</td>\n",
              "      <td>4</td>\n",
              "      <td>0</td>\n",
              "      <td>0</td>\n",
              "      <td>1</td>\n",
              "      <td>2</td>\n",
              "      <td>...</td>\n",
              "      <td>1</td>\n",
              "      <td>981</td>\n",
              "      <td>131</td>\n",
              "      <td>4</td>\n",
              "      <td>0</td>\n",
              "      <td>1</td>\n",
              "      <td>33</td>\n",
              "      <td>1</td>\n",
              "      <td>0</td>\n",
              "      <td>4</td>\n",
              "    </tr>\n",
              "  </tbody>\n",
              "</table>\n",
              "<p>1 rows × 82 columns</p>\n",
              "</div>\n",
              "      <button class=\"colab-df-convert\" onclick=\"convertToInteractive('df-58ffd7bb-fbdc-46f3-a01a-3eacaed1ee73')\"\n",
              "              title=\"Convert this dataframe to an interactive table.\"\n",
              "              style=\"display:none;\">\n",
              "        \n",
              "  <svg xmlns=\"http://www.w3.org/2000/svg\" height=\"24px\"viewBox=\"0 0 24 24\"\n",
              "       width=\"24px\">\n",
              "    <path d=\"M0 0h24v24H0V0z\" fill=\"none\"/>\n",
              "    <path d=\"M18.56 5.44l.94 2.06.94-2.06 2.06-.94-2.06-.94-.94-2.06-.94 2.06-2.06.94zm-11 1L8.5 8.5l.94-2.06 2.06-.94-2.06-.94L8.5 2.5l-.94 2.06-2.06.94zm10 10l.94 2.06.94-2.06 2.06-.94-2.06-.94-.94-2.06-.94 2.06-2.06.94z\"/><path d=\"M17.41 7.96l-1.37-1.37c-.4-.4-.92-.59-1.43-.59-.52 0-1.04.2-1.43.59L10.3 9.45l-7.72 7.72c-.78.78-.78 2.05 0 2.83L4 21.41c.39.39.9.59 1.41.59.51 0 1.02-.2 1.41-.59l7.78-7.78 2.81-2.81c.8-.78.8-2.07 0-2.86zM5.41 20L4 18.59l7.72-7.72 1.47 1.35L5.41 20z\"/>\n",
              "  </svg>\n",
              "      </button>\n",
              "      \n",
              "  <style>\n",
              "    .colab-df-container {\n",
              "      display:flex;\n",
              "      flex-wrap:wrap;\n",
              "      gap: 12px;\n",
              "    }\n",
              "\n",
              "    .colab-df-convert {\n",
              "      background-color: #E8F0FE;\n",
              "      border: none;\n",
              "      border-radius: 50%;\n",
              "      cursor: pointer;\n",
              "      display: none;\n",
              "      fill: #1967D2;\n",
              "      height: 32px;\n",
              "      padding: 0 0 0 0;\n",
              "      width: 32px;\n",
              "    }\n",
              "\n",
              "    .colab-df-convert:hover {\n",
              "      background-color: #E2EBFA;\n",
              "      box-shadow: 0px 1px 2px rgba(60, 64, 67, 0.3), 0px 1px 3px 1px rgba(60, 64, 67, 0.15);\n",
              "      fill: #174EA6;\n",
              "    }\n",
              "\n",
              "    [theme=dark] .colab-df-convert {\n",
              "      background-color: #3B4455;\n",
              "      fill: #D2E3FC;\n",
              "    }\n",
              "\n",
              "    [theme=dark] .colab-df-convert:hover {\n",
              "      background-color: #434B5C;\n",
              "      box-shadow: 0px 1px 3px 1px rgba(0, 0, 0, 0.15);\n",
              "      filter: drop-shadow(0px 1px 2px rgba(0, 0, 0, 0.3));\n",
              "      fill: #FFFFFF;\n",
              "    }\n",
              "  </style>\n",
              "\n",
              "      <script>\n",
              "        const buttonEl =\n",
              "          document.querySelector('#df-58ffd7bb-fbdc-46f3-a01a-3eacaed1ee73 button.colab-df-convert');\n",
              "        buttonEl.style.display =\n",
              "          google.colab.kernel.accessAllowed ? 'block' : 'none';\n",
              "\n",
              "        async function convertToInteractive(key) {\n",
              "          const element = document.querySelector('#df-58ffd7bb-fbdc-46f3-a01a-3eacaed1ee73');\n",
              "          const dataTable =\n",
              "            await google.colab.kernel.invokeFunction('convertToInteractive',\n",
              "                                                     [key], {});\n",
              "          if (!dataTable) return;\n",
              "\n",
              "          const docLinkHtml = 'Like what you see? Visit the ' +\n",
              "            '<a target=\"_blank\" href=https://colab.research.google.com/notebooks/data_table.ipynb>data table notebook</a>'\n",
              "            + ' to learn more about interactive tables.';\n",
              "          element.innerHTML = '';\n",
              "          dataTable['output_type'] = 'display_data';\n",
              "          await google.colab.output.renderOutput(dataTable, element);\n",
              "          const docLink = document.createElement('div');\n",
              "          docLink.innerHTML = docLinkHtml;\n",
              "          element.appendChild(docLink);\n",
              "        }\n",
              "      </script>\n",
              "    </div>\n",
              "  </div>\n",
              "  "
            ]
          },
          "metadata": {},
          "execution_count": 42
        }
      ]
    },
    {
      "cell_type": "markdown",
      "source": [
        "**Conclusion**\n",
        "\n",
        "Terrorist mostly uses Bombing/Explosion to attack.\n",
        "\n",
        "Terrorist mostly uses Explosives as weapon.\n",
        "\n",
        "Iraq, Pakistan, Afghanistan, India, volumbia these are top 5 countries with most terrorist attacks.\n",
        "\n",
        "similarly above 5 coutries are the most targeted countries.\n",
        "\n",
        "Terrorist killed people mainly with Armed Assault and Bombing/Explosion.\n",
        "\n",
        "People killed in Iraq and Afghanistan Terrorist Attack are very high as comapared to other countries."
      ],
      "metadata": {
        "id": "VNmRe3mbWm5y"
      }
    }
  ]
}